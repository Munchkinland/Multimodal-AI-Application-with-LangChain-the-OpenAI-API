{
  "nbformat": 4,
  "nbformat_minor": 0,
  "metadata": {
    "colab": {
      "provenance": []
    },
    "kernelspec": {
      "name": "python3",
      "display_name": "Python 3"
    },
    "language_info": {
      "name": "python"
    }
  },
  "cells": [
    {
      "cell_type": "markdown",
      "source": [
        "Paso 1: Instalar las bibliotecas necesarias desde la terminal o celda"
      ],
      "metadata": {
        "id": "OOG757qRY_PU"
      }
    },
    {
      "cell_type": "code",
      "execution_count": null,
      "metadata": {
        "colab": {
          "base_uri": "https://localhost:8080/"
        },
        "id": "IwizRiY8UwF5",
        "outputId": "55af20c4-df14-4ba6-ecea-7c11336b6cb1"
      },
      "outputs": [
        {
          "output_type": "stream",
          "name": "stdout",
          "text": [
            "Requirement already satisfied: SQLAlchemy==2.0.31 in /usr/local/lib/python3.10/dist-packages (2.0.31)\n",
            "Requirement already satisfied: typing-extensions>=4.6.0 in /usr/local/lib/python3.10/dist-packages (from SQLAlchemy==2.0.31) (4.12.2)\n",
            "Requirement already satisfied: greenlet!=0.4.17 in /usr/local/lib/python3.10/dist-packages (from SQLAlchemy==2.0.31) (3.0.3)\n",
            "Collecting langchain==0.0.292\n",
            "  Downloading langchain-0.0.292-py3-none-any.whl (1.7 MB)\n",
            "\u001b[2K     \u001b[90m━━━━━━━━━━━━━━━━━━━━━━━━━━━━━━━━━━━━━━━━\u001b[0m \u001b[32m1.7/1.7 MB\u001b[0m \u001b[31m17.2 MB/s\u001b[0m eta \u001b[36m0:00:00\u001b[0m\n",
            "\u001b[?25hRequirement already satisfied: PyYAML>=5.3 in /usr/local/lib/python3.10/dist-packages (from langchain==0.0.292) (6.0.1)\n",
            "Requirement already satisfied: SQLAlchemy<3,>=1.4 in /usr/local/lib/python3.10/dist-packages (from langchain==0.0.292) (2.0.31)\n",
            "Requirement already satisfied: aiohttp<4.0.0,>=3.8.3 in /usr/local/lib/python3.10/dist-packages (from langchain==0.0.292) (3.9.5)\n",
            "Requirement already satisfied: async-timeout<5.0.0,>=4.0.0 in /usr/local/lib/python3.10/dist-packages (from langchain==0.0.292) (4.0.3)\n",
            "Collecting dataclasses-json<0.6.0,>=0.5.7 (from langchain==0.0.292)\n",
            "  Downloading dataclasses_json-0.5.14-py3-none-any.whl (26 kB)\n",
            "Collecting langsmith<0.1.0,>=0.0.21 (from langchain==0.0.292)\n",
            "  Downloading langsmith-0.0.92-py3-none-any.whl (56 kB)\n",
            "\u001b[2K     \u001b[90m━━━━━━━━━━━━━━━━━━━━━━━━━━━━━━━━━━━━━━━━\u001b[0m \u001b[32m56.5/56.5 kB\u001b[0m \u001b[31m6.3 MB/s\u001b[0m eta \u001b[36m0:00:00\u001b[0m\n",
            "\u001b[?25hRequirement already satisfied: numexpr<3.0.0,>=2.8.4 in /usr/local/lib/python3.10/dist-packages (from langchain==0.0.292) (2.10.1)\n",
            "Requirement already satisfied: numpy<2,>=1 in /usr/local/lib/python3.10/dist-packages (from langchain==0.0.292) (1.25.2)\n",
            "Requirement already satisfied: pydantic<3,>=1 in /usr/local/lib/python3.10/dist-packages (from langchain==0.0.292) (2.7.4)\n",
            "Requirement already satisfied: requests<3,>=2 in /usr/local/lib/python3.10/dist-packages (from langchain==0.0.292) (2.31.0)\n",
            "Requirement already satisfied: tenacity<9.0.0,>=8.1.0 in /usr/local/lib/python3.10/dist-packages (from langchain==0.0.292) (8.4.1)\n",
            "Requirement already satisfied: aiosignal>=1.1.2 in /usr/local/lib/python3.10/dist-packages (from aiohttp<4.0.0,>=3.8.3->langchain==0.0.292) (1.3.1)\n",
            "Requirement already satisfied: attrs>=17.3.0 in /usr/local/lib/python3.10/dist-packages (from aiohttp<4.0.0,>=3.8.3->langchain==0.0.292) (23.2.0)\n",
            "Requirement already satisfied: frozenlist>=1.1.1 in /usr/local/lib/python3.10/dist-packages (from aiohttp<4.0.0,>=3.8.3->langchain==0.0.292) (1.4.1)\n",
            "Requirement already satisfied: multidict<7.0,>=4.5 in /usr/local/lib/python3.10/dist-packages (from aiohttp<4.0.0,>=3.8.3->langchain==0.0.292) (6.0.5)\n",
            "Requirement already satisfied: yarl<2.0,>=1.0 in /usr/local/lib/python3.10/dist-packages (from aiohttp<4.0.0,>=3.8.3->langchain==0.0.292) (1.9.4)\n",
            "Collecting marshmallow<4.0.0,>=3.18.0 (from dataclasses-json<0.6.0,>=0.5.7->langchain==0.0.292)\n",
            "  Downloading marshmallow-3.21.3-py3-none-any.whl (49 kB)\n",
            "\u001b[2K     \u001b[90m━━━━━━━━━━━━━━━━━━━━━━━━━━━━━━━━━━━━━━━━\u001b[0m \u001b[32m49.2/49.2 kB\u001b[0m \u001b[31m4.6 MB/s\u001b[0m eta \u001b[36m0:00:00\u001b[0m\n",
            "\u001b[?25hCollecting typing-inspect<1,>=0.4.0 (from dataclasses-json<0.6.0,>=0.5.7->langchain==0.0.292)\n",
            "  Downloading typing_inspect-0.9.0-py3-none-any.whl (8.8 kB)\n",
            "Requirement already satisfied: annotated-types>=0.4.0 in /usr/local/lib/python3.10/dist-packages (from pydantic<3,>=1->langchain==0.0.292) (0.7.0)\n",
            "Requirement already satisfied: pydantic-core==2.18.4 in /usr/local/lib/python3.10/dist-packages (from pydantic<3,>=1->langchain==0.0.292) (2.18.4)\n",
            "Requirement already satisfied: typing-extensions>=4.6.1 in /usr/local/lib/python3.10/dist-packages (from pydantic<3,>=1->langchain==0.0.292) (4.12.2)\n",
            "Requirement already satisfied: charset-normalizer<4,>=2 in /usr/local/lib/python3.10/dist-packages (from requests<3,>=2->langchain==0.0.292) (3.3.2)\n",
            "Requirement already satisfied: idna<4,>=2.5 in /usr/local/lib/python3.10/dist-packages (from requests<3,>=2->langchain==0.0.292) (3.7)\n",
            "Requirement already satisfied: urllib3<3,>=1.21.1 in /usr/local/lib/python3.10/dist-packages (from requests<3,>=2->langchain==0.0.292) (2.0.7)\n",
            "Requirement already satisfied: certifi>=2017.4.17 in /usr/local/lib/python3.10/dist-packages (from requests<3,>=2->langchain==0.0.292) (2024.6.2)\n",
            "Requirement already satisfied: greenlet!=0.4.17 in /usr/local/lib/python3.10/dist-packages (from SQLAlchemy<3,>=1.4->langchain==0.0.292) (3.0.3)\n",
            "Requirement already satisfied: packaging>=17.0 in /usr/local/lib/python3.10/dist-packages (from marshmallow<4.0.0,>=3.18.0->dataclasses-json<0.6.0,>=0.5.7->langchain==0.0.292) (24.1)\n",
            "Collecting mypy-extensions>=0.3.0 (from typing-inspect<1,>=0.4.0->dataclasses-json<0.6.0,>=0.5.7->langchain==0.0.292)\n",
            "  Downloading mypy_extensions-1.0.0-py3-none-any.whl (4.7 kB)\n",
            "Installing collected packages: mypy-extensions, marshmallow, typing-inspect, langsmith, dataclasses-json, langchain\n",
            "Successfully installed dataclasses-json-0.5.14 langchain-0.0.292 langsmith-0.0.92 marshmallow-3.21.3 mypy-extensions-1.0.0 typing-inspect-0.9.0\n",
            "Collecting tiktoken==0.5.1\n",
            "  Downloading tiktoken-0.5.1-cp310-cp310-manylinux_2_17_x86_64.manylinux2014_x86_64.whl (2.0 MB)\n",
            "\u001b[2K     \u001b[90m━━━━━━━━━━━━━━━━━━━━━━━━━━━━━━━━━━━━━━━━\u001b[0m \u001b[32m2.0/2.0 MB\u001b[0m \u001b[31m21.6 MB/s\u001b[0m eta \u001b[36m0:00:00\u001b[0m\n",
            "\u001b[?25hRequirement already satisfied: regex>=2022.1.18 in /usr/local/lib/python3.10/dist-packages (from tiktoken==0.5.1) (2024.5.15)\n",
            "Requirement already satisfied: requests>=2.26.0 in /usr/local/lib/python3.10/dist-packages (from tiktoken==0.5.1) (2.31.0)\n",
            "Requirement already satisfied: charset-normalizer<4,>=2 in /usr/local/lib/python3.10/dist-packages (from requests>=2.26.0->tiktoken==0.5.1) (3.3.2)\n",
            "Requirement already satisfied: idna<4,>=2.5 in /usr/local/lib/python3.10/dist-packages (from requests>=2.26.0->tiktoken==0.5.1) (3.7)\n",
            "Requirement already satisfied: urllib3<3,>=1.21.1 in /usr/local/lib/python3.10/dist-packages (from requests>=2.26.0->tiktoken==0.5.1) (2.0.7)\n",
            "Requirement already satisfied: certifi>=2017.4.17 in /usr/local/lib/python3.10/dist-packages (from requests>=2.26.0->tiktoken==0.5.1) (2024.6.2)\n",
            "Installing collected packages: tiktoken\n",
            "Successfully installed tiktoken-0.5.1\n",
            "Collecting docarray==0.38.0\n",
            "  Downloading docarray-0.38.0-py3-none-any.whl (264 kB)\n",
            "\u001b[2K     \u001b[90m━━━━━━━━━━━━━━━━━━━━━━━━━━━━━━━━━━━━━━━━\u001b[0m \u001b[32m264.3/264.3 kB\u001b[0m \u001b[31m5.1 MB/s\u001b[0m eta \u001b[36m0:00:00\u001b[0m\n",
            "\u001b[?25hRequirement already satisfied: numpy>=1.17.3 in /usr/local/lib/python3.10/dist-packages (from docarray==0.38.0) (1.25.2)\n",
            "Collecting orjson>=3.8.2 (from docarray==0.38.0)\n",
            "  Downloading orjson-3.10.5-cp310-cp310-manylinux_2_17_x86_64.manylinux2014_x86_64.whl (144 kB)\n",
            "\u001b[2K     \u001b[90m━━━━━━━━━━━━━━━━━━━━━━━━━━━━━━━━━━━━━━━━\u001b[0m \u001b[32m145.0/145.0 kB\u001b[0m \u001b[31m13.8 MB/s\u001b[0m eta \u001b[36m0:00:00\u001b[0m\n",
            "\u001b[?25hCollecting pydantic<2.0.0,>=1.10.2 (from docarray==0.38.0)\n",
            "  Downloading pydantic-1.10.17-cp310-cp310-manylinux_2_17_x86_64.manylinux2014_x86_64.whl (3.1 MB)\n",
            "\u001b[2K     \u001b[90m━━━━━━━━━━━━━━━━━━━━━━━━━━━━━━━━━━━━━━━━\u001b[0m \u001b[32m3.1/3.1 MB\u001b[0m \u001b[31m41.5 MB/s\u001b[0m eta \u001b[36m0:00:00\u001b[0m\n",
            "\u001b[?25hRequirement already satisfied: rich>=13.1.0 in /usr/local/lib/python3.10/dist-packages (from docarray==0.38.0) (13.7.1)\n",
            "Collecting types-requests>=2.28.11.6 (from docarray==0.38.0)\n",
            "  Downloading types_requests-2.32.0.20240622-py3-none-any.whl (15 kB)\n",
            "Requirement already satisfied: typing-inspect>=0.8.0 in /usr/local/lib/python3.10/dist-packages (from docarray==0.38.0) (0.9.0)\n",
            "Requirement already satisfied: typing-extensions>=4.2.0 in /usr/local/lib/python3.10/dist-packages (from pydantic<2.0.0,>=1.10.2->docarray==0.38.0) (4.12.2)\n",
            "Requirement already satisfied: markdown-it-py>=2.2.0 in /usr/local/lib/python3.10/dist-packages (from rich>=13.1.0->docarray==0.38.0) (3.0.0)\n",
            "Requirement already satisfied: pygments<3.0.0,>=2.13.0 in /usr/local/lib/python3.10/dist-packages (from rich>=13.1.0->docarray==0.38.0) (2.16.1)\n",
            "Requirement already satisfied: urllib3>=2 in /usr/local/lib/python3.10/dist-packages (from types-requests>=2.28.11.6->docarray==0.38.0) (2.0.7)\n",
            "Requirement already satisfied: mypy-extensions>=0.3.0 in /usr/local/lib/python3.10/dist-packages (from typing-inspect>=0.8.0->docarray==0.38.0) (1.0.0)\n",
            "Requirement already satisfied: mdurl~=0.1 in /usr/local/lib/python3.10/dist-packages (from markdown-it-py>=2.2.0->rich>=13.1.0->docarray==0.38.0) (0.1.2)\n",
            "Installing collected packages: types-requests, pydantic, orjson, docarray\n",
            "  Attempting uninstall: pydantic\n",
            "    Found existing installation: pydantic 2.7.4\n",
            "    Uninstalling pydantic-2.7.4:\n",
            "      Successfully uninstalled pydantic-2.7.4\n",
            "Successfully installed docarray-0.38.0 orjson-3.10.5 pydantic-1.10.17 types-requests-2.32.0.20240622\n",
            "Collecting openai==0.28\n",
            "  Downloading openai-0.28.0-py3-none-any.whl (76 kB)\n",
            "\u001b[2K     \u001b[90m━━━━━━━━━━━━━━━━━━━━━━━━━━━━━━━━━━━━━━━━\u001b[0m \u001b[32m76.5/76.5 kB\u001b[0m \u001b[31m2.0 MB/s\u001b[0m eta \u001b[36m0:00:00\u001b[0m\n",
            "\u001b[?25hRequirement already satisfied: requests>=2.20 in /usr/local/lib/python3.10/dist-packages (from openai==0.28) (2.31.0)\n",
            "Requirement already satisfied: tqdm in /usr/local/lib/python3.10/dist-packages (from openai==0.28) (4.66.4)\n",
            "Requirement already satisfied: aiohttp in /usr/local/lib/python3.10/dist-packages (from openai==0.28) (3.9.5)\n",
            "Requirement already satisfied: charset-normalizer<4,>=2 in /usr/local/lib/python3.10/dist-packages (from requests>=2.20->openai==0.28) (3.3.2)\n",
            "Requirement already satisfied: idna<4,>=2.5 in /usr/local/lib/python3.10/dist-packages (from requests>=2.20->openai==0.28) (3.7)\n",
            "Requirement already satisfied: urllib3<3,>=1.21.1 in /usr/local/lib/python3.10/dist-packages (from requests>=2.20->openai==0.28) (2.0.7)\n",
            "Requirement already satisfied: certifi>=2017.4.17 in /usr/local/lib/python3.10/dist-packages (from requests>=2.20->openai==0.28) (2024.6.2)\n",
            "Requirement already satisfied: aiosignal>=1.1.2 in /usr/local/lib/python3.10/dist-packages (from aiohttp->openai==0.28) (1.3.1)\n",
            "Requirement already satisfied: attrs>=17.3.0 in /usr/local/lib/python3.10/dist-packages (from aiohttp->openai==0.28) (23.2.0)\n",
            "Requirement already satisfied: frozenlist>=1.1.1 in /usr/local/lib/python3.10/dist-packages (from aiohttp->openai==0.28) (1.4.1)\n",
            "Requirement already satisfied: multidict<7.0,>=4.5 in /usr/local/lib/python3.10/dist-packages (from aiohttp->openai==0.28) (6.0.5)\n",
            "Requirement already satisfied: yarl<2.0,>=1.0 in /usr/local/lib/python3.10/dist-packages (from aiohttp->openai==0.28) (1.9.4)\n",
            "Requirement already satisfied: async-timeout<5.0,>=4.0 in /usr/local/lib/python3.10/dist-packages (from aiohttp->openai==0.28) (4.0.3)\n",
            "Installing collected packages: openai\n",
            "Successfully installed openai-0.28.0\n",
            "Collecting yt_dlp\n",
            "  Downloading yt_dlp-2024.5.27-py3-none-any.whl (3.1 MB)\n",
            "\u001b[2K     \u001b[90m━━━━━━━━━━━━━━━━━━━━━━━━━━━━━━━━━━━━━━━━\u001b[0m \u001b[32m3.1/3.1 MB\u001b[0m \u001b[31m27.0 MB/s\u001b[0m eta \u001b[36m0:00:00\u001b[0m\n",
            "\u001b[?25hCollecting brotli (from yt_dlp)\n",
            "  Downloading Brotli-1.1.0-cp310-cp310-manylinux_2_5_x86_64.manylinux1_x86_64.manylinux_2_12_x86_64.manylinux2010_x86_64.whl (3.0 MB)\n",
            "\u001b[2K     \u001b[90m━━━━━━━━━━━━━━━━━━━━━━━━━━━━━━━━━━━━━━━━\u001b[0m \u001b[32m3.0/3.0 MB\u001b[0m \u001b[31m76.2 MB/s\u001b[0m eta \u001b[36m0:00:00\u001b[0m\n",
            "\u001b[?25hRequirement already satisfied: certifi in /usr/local/lib/python3.10/dist-packages (from yt_dlp) (2024.6.2)\n",
            "Collecting mutagen (from yt_dlp)\n",
            "  Downloading mutagen-1.47.0-py3-none-any.whl (194 kB)\n",
            "\u001b[2K     \u001b[90m━━━━━━━━━━━━━━━━━━━━━━━━━━━━━━━━━━━━━━━━\u001b[0m \u001b[32m194.4/194.4 kB\u001b[0m \u001b[31m20.3 MB/s\u001b[0m eta \u001b[36m0:00:00\u001b[0m\n",
            "\u001b[?25hCollecting pycryptodomex (from yt_dlp)\n",
            "  Downloading pycryptodomex-3.20.0-cp35-abi3-manylinux_2_17_x86_64.manylinux2014_x86_64.whl (2.1 MB)\n",
            "\u001b[2K     \u001b[90m━━━━━━━━━━━━━━━━━━━━━━━━━━━━━━━━━━━━━━━━\u001b[0m \u001b[32m2.1/2.1 MB\u001b[0m \u001b[31m79.8 MB/s\u001b[0m eta \u001b[36m0:00:00\u001b[0m\n",
            "\u001b[?25hRequirement already satisfied: requests<3,>=2.31.0 in /usr/local/lib/python3.10/dist-packages (from yt_dlp) (2.31.0)\n",
            "Requirement already satisfied: urllib3<3,>=1.26.17 in /usr/local/lib/python3.10/dist-packages (from yt_dlp) (2.0.7)\n",
            "Collecting websockets>=12.0 (from yt_dlp)\n",
            "  Downloading websockets-12.0-cp310-cp310-manylinux_2_5_x86_64.manylinux1_x86_64.manylinux_2_17_x86_64.manylinux2014_x86_64.whl (130 kB)\n",
            "\u001b[2K     \u001b[90m━━━━━━━━━━━━━━━━━━━━━━━━━━━━━━━━━━━━━━━━\u001b[0m \u001b[32m130.2/130.2 kB\u001b[0m \u001b[31m16.6 MB/s\u001b[0m eta \u001b[36m0:00:00\u001b[0m\n",
            "\u001b[?25hRequirement already satisfied: charset-normalizer<4,>=2 in /usr/local/lib/python3.10/dist-packages (from requests<3,>=2.31.0->yt_dlp) (3.3.2)\n",
            "Requirement already satisfied: idna<4,>=2.5 in /usr/local/lib/python3.10/dist-packages (from requests<3,>=2.31.0->yt_dlp) (3.7)\n",
            "Installing collected packages: brotli, websockets, pycryptodomex, mutagen, yt_dlp\n",
            "Successfully installed brotli-1.1.0 mutagen-1.47.0 pycryptodomex-3.20.0 websockets-12.0 yt_dlp-2024.5.27\n",
            "Collecting youtube-dl\n",
            "  Downloading youtube_dl-2021.12.17-py2.py3-none-any.whl (1.9 MB)\n",
            "\u001b[2K     \u001b[90m━━━━━━━━━━━━━━━━━━━━━━━━━━━━━━━━━━━━━━━━\u001b[0m \u001b[32m1.9/1.9 MB\u001b[0m \u001b[31m19.4 MB/s\u001b[0m eta \u001b[36m0:00:00\u001b[0m\n",
            "\u001b[?25hInstalling collected packages: youtube-dl\n",
            "Successfully installed youtube-dl-2021.12.17\n",
            "Collecting pydub\n",
            "  Downloading pydub-0.25.1-py2.py3-none-any.whl (32 kB)\n",
            "Installing collected packages: pydub\n",
            "Successfully installed pydub-0.25.1\n",
            "Collecting python-dotenv\n",
            "  Downloading python_dotenv-1.0.1-py3-none-any.whl (19 kB)\n",
            "Installing collected packages: python-dotenv\n",
            "Successfully installed python-dotenv-1.0.1\n"
          ]
        }
      ],
      "source": [
        "!pip install SQLAlchemy==2.0.31\n",
        "!pip install langchain==0.0.292\n",
        "!pip install tiktoken==0.5.1\n",
        "!pip install docarray==0.38.0\n",
        "!pip install openai==0.28\n",
        "!pip install yt_dlp\n",
        "!pip install youtube-dl\n",
        "!pip install pydub\n",
        "!pip install python-dotenv"
      ]
    },
    {
      "cell_type": "markdown",
      "source": [
        "Paso 3: Importar los paquetes necesarios"
      ],
      "metadata": {
        "id": "NgH6z5PCZHs1"
      }
    },
    {
      "cell_type": "code",
      "source": [
        "import os\n",
        "import glob\n",
        "import openai\n",
        "import yt_dlp as youtube_dl\n",
        "from yt_dlp import DownloadError\n",
        "import docarray\n",
        "import pydub\n",
        "from langchain.embeddings.openai import OpenAIEmbeddings\n",
        "from langchain.text_splitter import CharacterTextSplitter\n",
        "from langchain.vectorstores.faiss import FAISS\n",
        "from langchain.document_loaders import TextLoader\n",
        "from langchain.chains import RetrievalQA\n",
        "from langchain.chat_models import ChatOpenAI\n",
        "from langchain.vectorstores import DocArrayInMemorySearch\n",
        "from IPython.display import display, Markdown\n"
      ],
      "metadata": {
        "id": "voy-YsjYVBzQ"
      },
      "execution_count": null,
      "outputs": []
    },
    {
      "cell_type": "markdown",
      "source": [
        "Paso 4: Configurar la clave de API de OpenAI (revisar por variable de entorno)"
      ],
      "metadata": {
        "id": "4KwZTaiOZOgF"
      }
    },
    {
      "cell_type": "code",
      "source": [
        "openai.api_key = \"sk-proj-NCeH7elzvrTgjL2rPQJrT3BlbkFJ8MQDCZWYC2inGXbiWaPS\"\n"
      ],
      "metadata": {
        "id": "9wG2t-QMVGlR"
      },
      "execution_count": null,
      "outputs": []
    },
    {
      "cell_type": "markdown",
      "source": [
        "Paso 5: Descargar video de YouTube y extraer audio en mp3"
      ],
      "metadata": {
        "id": "Jqr6RncoZZzO"
      }
    },
    {
      "cell_type": "code",
      "source": [
        "# Select the video url\n",
        "youtube_url = \"https://www.youtube.com/watch?v=CTl3qVdfVT8\"\n",
        "\n",
        "# Point the Directory to store the downloaded video\n",
        "output_dir = \"content/audio/\"\n",
        "\n",
        "# Config for youtube-dl\n",
        "ydl_config = {\n",
        "    \"format\": \"bestaudio/best\",\n",
        "    \"postprocessors\": [\n",
        "        {\n",
        "            \"key\": \"FFmpegExtractAudio\",\n",
        "            \"preferredcodec\": \"mp3\",\n",
        "            \"preferredquality\": \"192\",\n",
        "        }\n",
        "    ],\n",
        "    \"outtmpl\": os.path.join(output_dir, \"%(title)s.%(ext)s\"),\n",
        "    \"verbose\": True\n",
        "}\n",
        "\n",
        "# Check if the output directory exists, otherwise create it\n",
        "if not os.path.exists(output_dir):\n",
        "    os.makedirs(output_dir)\n",
        "\n",
        "# Print a message indicating which video is being downloaded\n",
        "print(f\"Downloading video from {youtube_url}\")\n",
        "\n",
        "try:\n",
        "    # Download the video using youtube_dl\n",
        "    with youtube_dl.YoutubeDL(ydl_config) as ydl:\n",
        "        ydl.download([youtube_url])\n",
        "\n",
        "    # Check if the downloaded file is a WebM\n",
        "    downloaded_file = os.path.join(output_dir, ydl.extract_info(youtube_url, download=False)['title'] + \".webm\")\n",
        "    if os.path.exists(downloaded_file):\n",
        "        # Extract audio from WebM file using pydub\n",
        "        sound = pydub.AudioSegment.from_file(downloaded_file, format=\"webm\")\n",
        "        output_filename = f\"{output_dir}/{ydl.extract_info(youtube_url, download=False)['title']}.mp3\"\n",
        "        sound.export(output_filename, format=\"mp3\", bitrate=\"192k\")  # Adjust bitrate if needed\n",
        "\n",
        "        os.remove(downloaded_file)  # Remove the WebM file after successful extraction\n",
        "    else:\n",
        "        print(f\"Downloaded audio: {downloaded_file}\")\n",
        "\n",
        "except DownloadError as e:\n",
        "    # Download error occurred, handle it (e.g., print error message or retry logic)\n",
        "    print(f\"Download failed: {e}\")\n"
      ],
      "metadata": {
        "colab": {
          "base_uri": "https://localhost:8080/"
        },
        "id": "FfMTEgLPVOEK",
        "outputId": "08faaa82-6670-4277-fbc6-baff7039f3c9"
      },
      "execution_count": null,
      "outputs": [
        {
          "output_type": "stream",
          "name": "stderr",
          "text": [
            "[debug] Encodings: locale UTF-8, fs utf-8, pref UTF-8, out UTF-8 (No ANSI), error UTF-8 (No ANSI), screen UTF-8 (No ANSI)\n",
            "[debug] yt-dlp version stable@2024.05.27 from yt-dlp/yt-dlp [12b248ce6] (pip) API\n",
            "[debug] params: {'format': 'bestaudio/best', 'postprocessors': [{'key': 'FFmpegExtractAudio', 'preferredcodec': 'mp3', 'preferredquality': '192'}], 'outtmpl': 'content/audio/%(title)s.%(ext)s', 'verbose': True, 'compat_opts': set(), 'http_headers': {'User-Agent': 'Mozilla/5.0 (Windows NT 10.0; Win64; x64) AppleWebKit/537.36 (KHTML, like Gecko) Chrome/92.0.4515.159 Safari/537.36', 'Accept': 'text/html,application/xhtml+xml,application/xml;q=0.9,*/*;q=0.8', 'Accept-Language': 'en-us,en;q=0.5', 'Sec-Fetch-Mode': 'navigate'}}\n",
            "[debug] Python 3.10.12 (CPython x86_64 64bit) - Linux-6.1.85+-x86_64-with-glibc2.35 (OpenSSL 3.0.2 15 Mar 2022, glibc 2.35)\n"
          ]
        },
        {
          "output_type": "stream",
          "name": "stdout",
          "text": [
            "Downloading video from https://www.youtube.com/watch?v=CTl3qVdfVT8\n"
          ]
        },
        {
          "output_type": "stream",
          "name": "stderr",
          "text": [
            "[debug] exe versions: ffmpeg 4.4.2 (setts), ffprobe 4.4.2\n",
            "[debug] Optional libraries: Cryptodome-3.20.0, brotli-1.1.0, certifi-2024.06.02, mutagen-1.47.0, requests-2.31.0, secretstorage-3.3.1, sqlite3-3.37.2, urllib3-2.0.7, websockets-12.0\n",
            "[debug] Proxy map: {'colab_language_server': '/usr/colab/bin/language_service'}\n",
            "[debug] Request Handlers: urllib, requests, websockets\n",
            "[debug] Loaded 1820 extractors\n"
          ]
        },
        {
          "output_type": "stream",
          "name": "stdout",
          "text": [
            "[youtube] Extracting URL: https://www.youtube.com/watch?v=CTl3qVdfVT8\n",
            "[youtube] CTl3qVdfVT8: Downloading webpage\n",
            "[youtube] CTl3qVdfVT8: Downloading ios player API JSON\n",
            "[youtube] CTl3qVdfVT8: Downloading player 5b22937f\n"
          ]
        },
        {
          "output_type": "stream",
          "name": "stderr",
          "text": [
            "[debug] [youtube] Extracting nsig function with jsinterp\n",
            "[debug] Saving youtube-nsig.5b22937f to cache\n",
            "[debug] [youtube] Decrypted nsig mlw4AYbLQvca5hrj => w7embO5YcnGPRQ\n",
            "[debug] Loading youtube-nsig.5b22937f from cache\n",
            "[debug] [youtube] Decrypted nsig FYNPQTttwUDoOQ8H => SsJFAP5sMap_pQ\n"
          ]
        },
        {
          "output_type": "stream",
          "name": "stdout",
          "text": [
            "[youtube] CTl3qVdfVT8: Downloading m3u8 information\n"
          ]
        },
        {
          "output_type": "stream",
          "name": "stderr",
          "text": [
            "[debug] Sort order given by extractor: quality, res, fps, hdr:12, source, vcodec:vp9.2, channels, acodec, lang, proto\n",
            "[debug] Formats sorted by: hasvid, ie_pref, quality, res, fps, hdr:12(7), source, vcodec:vp9.2(10), channels, acodec, lang, proto, size, br, asr, vext, aext, hasaud, id\n"
          ]
        },
        {
          "output_type": "stream",
          "name": "stdout",
          "text": [
            "[info] CTl3qVdfVT8: Downloading 1 format(s): 251\n"
          ]
        },
        {
          "output_type": "stream",
          "name": "stderr",
          "text": [
            "[debug] Invoking http downloader on \"https://rr5---sn-5ualdns6.googlevideo.com/videoplayback?expire=1719687548&ei=HAWAZse0MqizkucP4vGyoAQ&ip=34.75.163.42&id=o-AGyHzXvgdc7S6pdwkwmbqeh_yr47ZXi6MAgSH8hy-6OH&itag=251&source=youtube&requiressl=yes&xpc=EgVo2aDSNQ%3D%3D&mh=6N&mm=31%2C26&mn=sn-5ualdns6%2Csn-a5meknsy&ms=au%2Conr&mv=m&mvi=5&pl=20&initcwndbps=2837500&bui=AbKP-1Pq9ErHPyL5QXM6rIjA33BI27E_WLi2wFclyN3RcBaT29m0RUHNmZRccbADTwjWt2iQJo5e2hk_&spc=UWF9f9ANYH6fYYUVNoVkY4mgeMZsCC9dcgmVBw7yCW56wGx8le5S83o6OPk-&vprv=1&svpuc=1&mime=audio%2Fwebm&ns=aTvue9SQ47C6TGKkOdaqXh4Q&rqh=1&gir=yes&clen=10962570&dur=752.501&lmt=1705145071572806&mt=1719665615&fvip=3&keepalive=yes&c=WEB&sefc=1&txp=4432434&n=SsJFAP5sMap_pQ&sparams=expire%2Cei%2Cip%2Cid%2Citag%2Csource%2Crequiressl%2Cxpc%2Cbui%2Cspc%2Cvprv%2Csvpuc%2Cmime%2Cns%2Crqh%2Cgir%2Cclen%2Cdur%2Clmt&sig=AJfQdSswRAIgbU60jwmA0sqp9YStoPXKgVHpjAh1xzdSqzANu7medjYCIGzCY8mAof1zuHLCfL8t3SHzt8GWEyTxJhk9sXqkIBg8&lsparams=mh%2Cmm%2Cmn%2Cms%2Cmv%2Cmvi%2Cpl%2Cinitcwndbps&lsig=AHlkHjAwRgIhAKS0Mmw6MsqbtDokVIeE1KvmEMBA1XJBQ_wnWINfXhBJAiEAvAE8Io6W2LPllRwuiOt6U1xrtfoEVq3EnMvIlQ74tzI%3D\"\n"
          ]
        },
        {
          "output_type": "stream",
          "name": "stdout",
          "text": [
            "[download] Destination: content/audio/iPhone 15 Review： LA DECISIÓN MÁS INTELIGENTE.webm\n",
            "[download] 100% of   10.45MiB in 00:00:01 at 8.69MiB/s   \n"
          ]
        },
        {
          "output_type": "stream",
          "name": "stderr",
          "text": [
            "[debug] ffmpeg command line: ffprobe -show_streams 'file:content/audio/iPhone 15 Review： LA DECISIÓN MÁS INTELIGENTE.webm'\n"
          ]
        },
        {
          "output_type": "stream",
          "name": "stdout",
          "text": [
            "[ExtractAudio] Destination: content/audio/iPhone 15 Review： LA DECISIÓN MÁS INTELIGENTE.mp3\n"
          ]
        },
        {
          "output_type": "stream",
          "name": "stderr",
          "text": [
            "[debug] ffmpeg command line: ffmpeg -y -loglevel repeat+info -i 'file:content/audio/iPhone 15 Review： LA DECISIÓN MÁS INTELIGENTE.webm' -vn -acodec libmp3lame -b:a 192.0k -movflags +faststart 'file:content/audio/iPhone 15 Review： LA DECISIÓN MÁS INTELIGENTE.mp3'\n"
          ]
        },
        {
          "output_type": "stream",
          "name": "stdout",
          "text": [
            "Deleting original file content/audio/iPhone 15 Review： LA DECISIÓN MÁS INTELIGENTE.webm (pass -k to keep)\n",
            "[youtube] Extracting URL: https://www.youtube.com/watch?v=CTl3qVdfVT8\n",
            "[youtube] CTl3qVdfVT8: Downloading webpage\n",
            "[youtube] CTl3qVdfVT8: Downloading ios player API JSON\n"
          ]
        },
        {
          "output_type": "stream",
          "name": "stderr",
          "text": [
            "[debug] Loading youtube-nsig.5b22937f from cache\n",
            "[debug] [youtube] Decrypted nsig XAJOAY6RaA4pcUyZ => Zu2hVcVgFrrfuQ\n",
            "[debug] Loading youtube-nsig.5b22937f from cache\n",
            "[debug] [youtube] Decrypted nsig BlLb9fl9ThLxELhV => VRDfGziNPQ8IDw\n"
          ]
        },
        {
          "output_type": "stream",
          "name": "stdout",
          "text": [
            "[youtube] CTl3qVdfVT8: Downloading m3u8 information\n"
          ]
        },
        {
          "output_type": "stream",
          "name": "stderr",
          "text": [
            "[debug] Sort order given by extractor: quality, res, fps, hdr:12, source, vcodec:vp9.2, channels, acodec, lang, proto\n",
            "[debug] Formats sorted by: hasvid, ie_pref, quality, res, fps, hdr:12(7), source, vcodec:vp9.2(10), channels, acodec, lang, proto, size, br, asr, vext, aext, hasaud, id\n"
          ]
        },
        {
          "output_type": "stream",
          "name": "stdout",
          "text": [
            "Downloaded audio: content/audio/iPhone 15 Review: LA DECISIÓN MÁS INTELIGENTE.webm\n"
          ]
        }
      ]
    },
    {
      "cell_type": "markdown",
      "source": [
        "Paso 6: Encontrar archivos de audio descargado"
      ],
      "metadata": {
        "id": "Ad9b3ayIZg74"
      }
    },
    {
      "cell_type": "code",
      "source": [
        "# Find all the audio files in the output directory\n",
        "audio_files = glob.glob(os.path.join(output_dir, \"*.mp3\"))\n",
        "\n",
        "# Check if any audio files were found\n",
        "if audio_files:\n",
        "  # Select the first audio file in the list\n",
        "  audio_filename = audio_files[0]\n",
        "  # Print the name of the selected audio file\n",
        "  print(audio_filename)\n",
        "else:\n",
        "  print(\"No audio files found in the output directory.\")\n"
      ],
      "metadata": {
        "colab": {
          "base_uri": "https://localhost:8080/"
        },
        "id": "1ZC571WlVU4q",
        "outputId": "e374e6aa-c022-450b-b457-9b66421fc4b0"
      },
      "execution_count": null,
      "outputs": [
        {
          "output_type": "stream",
          "name": "stdout",
          "text": [
            "content/audio/iPhone 15 Review： LA DECISIÓN MÁS INTELIGENTE.mp3\n"
          ]
        }
      ]
    },
    {
      "cell_type": "markdown",
      "source": [
        "Paso 7: Transcribir el audio utilizando Whisper"
      ],
      "metadata": {
        "id": "hjiG88POZivg"
      }
    },
    {
      "cell_type": "code",
      "source": [
        "# Transcribe the audio file to text using OpenAI API\n",
        "audio_file = audio_filename\n",
        "output_file = \"files/transcripts/transcript.txt\"\n",
        "model = \"whisper-1\"\n",
        "\n",
        "print(\"Converting audio to text...\")\n",
        "\n",
        "with open(audio_file, \"rb\") as audio:\n",
        "    response = openai.Audio.transcribe(model, audio)\n",
        "\n",
        "# Extract the transcript from the response\n",
        "transcript = response[\"text\"]\n",
        "\n",
        "# If an output file is specified, save the transcript to a .txt file\n",
        "if output_file is not None:\n",
        "    # Create the directory for the output file if it doesn't exist\n",
        "    os.makedirs(os.path.dirname(output_file), exist_ok=True)\n",
        "\n",
        "    # Write the transcript to the output file\n",
        "    with open(output_file, \"w\") as file:\n",
        "        file.write(transcript)\n",
        "\n",
        "# Print the transcript to the console to verify if it worked\n",
        "print(transcript)\n"
      ],
      "metadata": {
        "colab": {
          "base_uri": "https://localhost:8080/"
        },
        "id": "NxzjQAuUVVW-",
        "outputId": "5887111c-a7ab-4c7f-fccf-2a89f07e3423"
      },
      "execution_count": null,
      "outputs": [
        {
          "output_type": "stream",
          "name": "stdout",
          "text": [
            "Converting audio to text...\n",
            "He estado probando el nuevo iPhone 15 durante bastantes días como para poder traeros este análisis y lo primero de todo que os voy a decir es que me parece un modelo muchísimo más interesante que el iPhone 15 Pro o que el iPhone 15 Pro Max. En este vídeo te voy a decir que este iPhone 15 probablemente sea el iPhone que estabas esperando desde hace tiempo... ¿o no? Muy buenas ataqueros, ¿qué tal estáis? Yo soy Mario Arroyo y por primera vez en varias generaciones de iPhone al fin podemos diferenciar a simple vista el iPhone 15 del iPhone 14. Esto se debe principalmente a que Apple ha integrado también la Dynamic Island o isla dinámica en estos modelos básicos y bueno este es un elemento que tiene ciertas ventajas a la hora de usar el teléfono pero yo después de un año utilizando el iPhone 14 Pro Max como mi teléfono personal tengo que decir que tampoco le he sacado muchísimo partido y creo que todavía le falta más integración de aplicaciones de terceros. Hablando en términos de diseño para este iPhone 15 Apple ha querido mantener el cuerpo sólido de aluminio y los cantos rectos pero tengo que deciros que ha suavizado de manera notoria las aristas. Esto hace que la sensación en mano sea mucho más cómoda y hace parecer que el teléfono es más fino. En estos modelos no Pro Apple también ha decidido mantener esa pestaña de silencio que es súper clásica en los iPhone así que no tenemos ese nuevo botón de acción que sólo podemos disfrutar en el iPhone 15 Pro y iPhone 15 Pro Max que por cierto también hemos analizado ese iPhone 15 Pro Max si te interesa te lo dejo abajo en la descripción. Eso sí en el marco inferior sí que tenemos una de las grandes novedades que muchos usuarios llevábamos pidiéndole a Apple durante un montón de tiempo que es la integración del USB tipo C en el puerto de carga y como podía esperar pues el diseño sigue siendo excelente y este año se remata con una superficie trasera de cristal endurecido y tintada en un color acorde con el cuerpo metálico. El iPhone 15 de color azul claro es el que yo he estado probando y es un color que bajo mi punto de vista es demasiado sutil para mi gusto y en algunos momentos parece blanco. Ahora el tacto me ha parecido de los mejores que ha tenido nunca un iPhone. Es súper suavito, súper agradable, es como... Y luego más allá de la Dynamic Island la pantalla del iPhone 15 mantiene la calidad que ya ofrecían sus antecesores y el panel viene perfectamente bien calibrado en temperatura de color y saturación, tiene un contraste muy alto y en esta generación contamos con un brillo máximo que se eleva hasta los 2000 nits de pico en exteriores permitiendo ver el contenido incluso bajo la luz del sol directa. La pantalla es prácticamente idéntica a la que tenemos en los iPhone 15 Pro y Pro Max a excepción un año más de que no tenemos Promotion. Es decir que esa tasa de refresco de la pantalla no es tan fluida como nos gustaría y se sigue manteniendo en los 60 hercios. Estamos en 2023, este teléfono está cerca de los 1000 euros de precio y yo creo que ya va siendo hora de que Apple integre también el Promotion en los modelos no Pro. Entiendo que esto se hace para que haya una diferencia entre los básicos, los Pro, que el precio esté justificado, pero el Promotion... el Promotion no hombre no Si hablamos de potencia, los modelos más básicos de los iPhone 15 llegan con el Apple A16 Bionic como procesador, algo que bajo mi punto de vista le da calidad y le da garantía y que no nos confunda que el A16 sea un procesador del año pasado porque ya lo tenían los iPhone 14 Pro, pero sinceramente es que no hace falta más. Ya el Apple A16 funcionaba perfectamente, no veo el motivo de por qué meterle el A17 Pro nuevo a estos teléfonos. A nivel general, como digo, no he tenido ni un solo problema, la experiencia ha sido rápida en la multitarea, con altísima calidad en juegos de gran resolución y la verdad que no he notado un calentamiento excesivo a la hora de jugar a videojuegos más exigentes. Os recuerdo que los iPhone 15 Pro y iPhone 15 Pro Max están teniendo bastantes problemas de sobrecalentamiento, ya lo dijimos en el análisis del iPhone 15 Pro Max y esto es algo que no he notado en el iPhone 15, así que en este sentido yo respiro un poco más tranquilo. A ver si Apple soluciona a través de software estos problemas porque... cuidadito, ¿eh? Si hagamos de autonomía tampoco tenemos un grandísimo cambio, muy a mi pesar, el iPhone 15 sigue durando perfectamente las exigencias del día a día, tenemos autonomía perfectamente desde por la mañana hasta por la noche, con un uso moderado, con un uso normal. Yo siempre he estado utilizando el teléfono prácticamente con conectividad Wi-Fi, sin excesivo uso de videojuegos, muchas redes sociales, mucha navegación y muchos vídeos en YouTube. Así que si no eres un usuario ultra exigente que está todo el día grabando vídeos o todo el día usando el GPS, yo creo que la batería del iPhone 15 es más que de sobra. Ahora, si eres un usuario mucho más exigente y quieres un extra de batería, sí que te recomiendo que si te interesa el iPhone 15 le eches un vistazo al iPhone 15 Plus que, aunque es un poquito más grande, tiene ese extra de batería por ser de mayor tamaño y quizá ese sí que merezca más la pena. En cuanto a la carga, como ya dije en el análisis del iPhone 15 Pro Max, pues Apple sigue estando bastante por detrás de su competencia en cuanto a las cifras de carga y en esta generación tendremos que esperar cerca de hora y media para que el teléfono esté cargado al 100%. El iPhone 15 tiene una carga máxima de 25 vatios, el Plus una carga máxima de 30 vatios, así que como veis no es una diferencia muy trascendental y ambos teléfonos tardan prácticamente lo mismo en cargarse. Así que si queréis cargar rápida pues todavía no, amigos de Apple, todavía no. Y vamos con buenas noticias ya que Apple sí que ha apostado mucho por la cámara de los iPhone 15 No Pro y en este caso adopta casi todas las ventajas que teníamos en los iPhone 14 Pro del año pasado subiendo los megapíxeles del sensor principal de 12 a 48. Eso sí, no os confundáis, no quiere decir que el sensor que montan los iPhone 15 sea exactamente el mismo sensor que tiene los iPhone 15 Pro porque no es el mismo sensor a pesar de que compartan esos 48 megapíxeles. El sensor principal de los iPhone 15 y 15 Plus es más pequeño por lo que tendrá un poco más de dificultades a la hora de captar la luz. Pero vamos a ver mejor las especificaciones a nivel de hardware de las cámaras de estos nuevos teléfonos. Como digo en el sensor principal tenemos una lente de 48 megapíxeles con apertura f 1.6 acompañada de otro sensor más que en este caso sigue siendo un ultragran angular. Este sí de 12 megapíxeles con apertura f 2.4. El dibujo de las cámaras de este iPhone 15 se completa con una cámara frontal con un sensor de 12 megapíxeles con una óptica con apertura f 1.9. Y me alegra decir que el salto de los 12 megapíxeles a los 48 en este iPhone 15 hace que la cámara sea capaz de cubrir prácticamente todas las necesidades que podamos tener a nivel de cámara. Eso sí, el iPhone 15 sólo toma fotos en formato comprimido, es decir o HEIC o JPG. El ProRAW sí que se queda reservado para los modelos superiores. Pero esto se ve mejor con los resultados. De día la cámara principal del iPhone 15 se luce con bastante músculo en las dos vertientes clave, es decir en el hardware y en el software. El nuevo sensor de estos iPhone 15 saca tomas con una nitidez mucho más alta incluso en los detalles del fondo de las imágenes. A nivel de colorimetría tenemos los mismos resultados que en el Pro Max, es decir los colores de la escena son prácticamente iguales a los originales, bastante naturales, tienen también un alto rango dinámico y luego sobre el enfoque decir que es realmente rápido y la detección de los sujetos ayuda a que las personas queden siempre en el foco de forma automática. El iPhone 15 no cuenta con cámara equipada con objetivo telefoto, muy a mi pesar, pero bueno tengo que decir que se las apañan bastante bien aplicando el truquillo del recorte sobre los 48 megapíxeles efectivos del sensor principal. Eso sí, todas estas fotos se guardan comprimidas en 12 megapíxeles y a nivel de calidad este zoom de dos aumentos que estrenan los iPhone 15 no Pro puede utilizarse sin problema. Es una solución más o menos válida a falta de tener un teleobjetivo. Objetivo que a mí me encantaría ver algún día los modelos no Pro sinceramente porque yo creo que es el que más utilizo. Esto ya a cuestión personal. De noche los resultados son muy buenos aunque siempre con excepciones. Si la escena está iluminada de manera uniforme el iPhone 15 puede sacarse fotones de la manga incluso sin activar el modo noche. Mantiene bien el balance de blancos clavado y hasta conserva gran detalle del fondo como los textos. Las acuarelas eso sí suelen aparecer cuando aplicamos el zoom, algo que en este caso es inevitable. Y luego lo que respecta a la grabación de vídeo el iPhone 15 se comporta como un gama premium en términos de calidad, estabilización de imagen, resolución y nitidez. Por las pruebas que hemos estado haciendo creo que no tienen nada que envidiarles a los teléfonos Pro, al menos siempre que se utilice la cámara principal, la cual permite hasta una resolución 4k a 60 fotogramas por segundo. Buenos ataqueros, hora de las conclusiones. Como os he dicho al principio del vídeo tanto el iPhone 15 como el iPhone 15 plus me parecen teléfonos mucho mucho más interesantes que los modelos Pro, al menos en esta generación. Como digo los modelos básicos adoptan todas las ventajas que tenían los modelos Pro del año pasado y esto ha hecho que prácticamente no haya echado de menos que no haya una grandísima evolución de la generación pasada a ésta, porque realmente no la hay. Como novedades pues ahí está el USB tipo C para cubrir la necesidad de tener un puerto más o menos universal en la mayoría de nuestros dispositivos electrónicos. También destacó ese mayor brillo de la pantalla que es prácticamente la misma que la de los modelos Pro a excepción de ese promotion que os comentaba y para mí apostar por el sensor de 48 megapíxeles como cámara principal es lo que termina decantando la balanza. Yo personalmente soy mucho más exigente y prefiero tener ese objetivo por eso yo prefiero tener el modelo Pro, pero entiendo que a muchos usuarios esto le da igual el tema de hacer zoom y demás, o sea que con una cámara principal y un ultra gran angular un tanto discretito yo creo que es más que de sobra. Como digo la cámara principal del iPhone 15 me ha parecido soberbia y termina sorprendiendo por su capacidad todoterreno que alcanza hasta ese zoom aprovechable en un rango de los 2 a los 5 aumentos y como digo el gran angular pues sigue siendo bastante flojo. Son pocas las veces que me ha apetecido disparar con esta cámara secundaria y bueno la falta de nitidez es notable casi a simple vista. También la deformación óptica en los extremos. En resumen, el iPhone 15 es un teléfono de gama premium con todas las de la ley incluso pese a que Apple rebaje artificialmente la categoría para encajarlos en su catálogo de precios. Así que la realidad es que el iPhone 15 me parece la decisión más inteligente si lo que buscas es el iPhone más reciente y te quieres ahorrar un poco de dinero y si no pues te recomiendo que le eches un vistazo al vídeo de qué iPhone comprar en 2023 que subimos hace unos días. Te dejo el enlace en la descripción porque si no quieres el iPhone 15 probablemente te interese otro y en ese vídeo tienes la respuesta a todas tus preguntas. Así que nada sataqueros me voy a despedir ya no sin antes haceros una pregunta ¿qué iPhone os está gustando más de los que ha presentado Apple? ¿Os gusta el modelo normal? ¿Preferís el modelo pro? ¿No preferís ningún iPhone? ¿Os gusta más cualquier otro Android? Pues no sé vamos a los comentarios y me dejáis ahí un debate interesante que yo los leo todos. Muchísimas gracias por haber estado una vez más al otro lado si tenéis cualquier duda ya sabéis ir abajo, dejad un buen me gusta, suscribiros al canal para no perderos nada de nuestro contenido porque dentro de poquito vamos a subir una comparativa de estos cuatro iPhones así que yo me despido ya que tengo mucho que hacer y nos vemos en el próximo vídeo sataqueros.\n"
          ]
        }
      ]
    },
    {
      "cell_type": "markdown",
      "source": [
        "Paso 8: Crear un TextLoader utilizando LangChain"
      ],
      "metadata": {
        "id": "zRYIyMAlZm7h"
      }
    },
    {
      "cell_type": "code",
      "source": [
        "# Initialize the TextLoader with the transcript\n",
        "loader = TextLoader('files/transcripts/transcript.txt')\n",
        "\n",
        "# Load the documents using the loader\n",
        "documents = loader.load()\n",
        "\n",
        "# Display the first document to verify if it was loaded correctly\n",
        "display(documents[0])\n"
      ],
      "metadata": {
        "colab": {
          "base_uri": "https://localhost:8080/",
          "height": 1000
        },
        "id": "qUkJI2sAVZHr",
        "outputId": "d53dbc54-87df-42ab-cc71-6b1a8117660f"
      },
      "execution_count": null,
      "outputs": [
        {
          "output_type": "display_data",
          "data": {
            "text/plain": [
              "Document(page_content='He estado probando el nuevo iPhone 15 durante bastantes días como para poder traeros este análisis y lo primero de todo que os voy a decir es que me parece un modelo muchísimo más interesante que el iPhone 15 Pro o que el iPhone 15 Pro Max. En este vídeo te voy a decir que este iPhone 15 probablemente sea el iPhone que estabas esperando desde hace tiempo... ¿o no? Muy buenas ataqueros, ¿qué tal estáis? Yo soy Mario Arroyo y por primera vez en varias generaciones de iPhone al fin podemos diferenciar a simple vista el iPhone 15 del iPhone 14. Esto se debe principalmente a que Apple ha integrado también la Dynamic Island o isla dinámica en estos modelos básicos y bueno este es un elemento que tiene ciertas ventajas a la hora de usar el teléfono pero yo después de un año utilizando el iPhone 14 Pro Max como mi teléfono personal tengo que decir que tampoco le he sacado muchísimo partido y creo que todavía le falta más integración de aplicaciones de terceros. Hablando en términos de diseño para este iPhone 15 Apple ha querido mantener el cuerpo sólido de aluminio y los cantos rectos pero tengo que deciros que ha suavizado de manera notoria las aristas. Esto hace que la sensación en mano sea mucho más cómoda y hace parecer que el teléfono es más fino. En estos modelos no Pro Apple también ha decidido mantener esa pestaña de silencio que es súper clásica en los iPhone así que no tenemos ese nuevo botón de acción que sólo podemos disfrutar en el iPhone 15 Pro y iPhone 15 Pro Max que por cierto también hemos analizado ese iPhone 15 Pro Max si te interesa te lo dejo abajo en la descripción. Eso sí en el marco inferior sí que tenemos una de las grandes novedades que muchos usuarios llevábamos pidiéndole a Apple durante un montón de tiempo que es la integración del USB tipo C en el puerto de carga y como podía esperar pues el diseño sigue siendo excelente y este año se remata con una superficie trasera de cristal endurecido y tintada en un color acorde con el cuerpo metálico. El iPhone 15 de color azul claro es el que yo he estado probando y es un color que bajo mi punto de vista es demasiado sutil para mi gusto y en algunos momentos parece blanco. Ahora el tacto me ha parecido de los mejores que ha tenido nunca un iPhone. Es súper suavito, súper agradable, es como... Y luego más allá de la Dynamic Island la pantalla del iPhone 15 mantiene la calidad que ya ofrecían sus antecesores y el panel viene perfectamente bien calibrado en temperatura de color y saturación, tiene un contraste muy alto y en esta generación contamos con un brillo máximo que se eleva hasta los 2000 nits de pico en exteriores permitiendo ver el contenido incluso bajo la luz del sol directa. La pantalla es prácticamente idéntica a la que tenemos en los iPhone 15 Pro y Pro Max a excepción un año más de que no tenemos Promotion. Es decir que esa tasa de refresco de la pantalla no es tan fluida como nos gustaría y se sigue manteniendo en los 60 hercios. Estamos en 2023, este teléfono está cerca de los 1000 euros de precio y yo creo que ya va siendo hora de que Apple integre también el Promotion en los modelos no Pro. Entiendo que esto se hace para que haya una diferencia entre los básicos, los Pro, que el precio esté justificado, pero el Promotion... el Promotion no hombre no Si hablamos de potencia, los modelos más básicos de los iPhone 15 llegan con el Apple A16 Bionic como procesador, algo que bajo mi punto de vista le da calidad y le da garantía y que no nos confunda que el A16 sea un procesador del año pasado porque ya lo tenían los iPhone 14 Pro, pero sinceramente es que no hace falta más. Ya el Apple A16 funcionaba perfectamente, no veo el motivo de por qué meterle el A17 Pro nuevo a estos teléfonos. A nivel general, como digo, no he tenido ni un solo problema, la experiencia ha sido rápida en la multitarea, con altísima calidad en juegos de gran resolución y la verdad que no he notado un calentamiento excesivo a la hora de jugar a videojuegos más exigentes. Os recuerdo que los iPhone 15 Pro y iPhone 15 Pro Max están teniendo bastantes problemas de sobrecalentamiento, ya lo dijimos en el análisis del iPhone 15 Pro Max y esto es algo que no he notado en el iPhone 15, así que en este sentido yo respiro un poco más tranquilo. A ver si Apple soluciona a través de software estos problemas porque... cuidadito, ¿eh? Si hagamos de autonomía tampoco tenemos un grandísimo cambio, muy a mi pesar, el iPhone 15 sigue durando perfectamente las exigencias del día a día, tenemos autonomía perfectamente desde por la mañana hasta por la noche, con un uso moderado, con un uso normal. Yo siempre he estado utilizando el teléfono prácticamente con conectividad Wi-Fi, sin excesivo uso de videojuegos, muchas redes sociales, mucha navegación y muchos vídeos en YouTube. Así que si no eres un usuario ultra exigente que está todo el día grabando vídeos o todo el día usando el GPS, yo creo que la batería del iPhone 15 es más que de sobra. Ahora, si eres un usuario mucho más exigente y quieres un extra de batería, sí que te recomiendo que si te interesa el iPhone 15 le eches un vistazo al iPhone 15 Plus que, aunque es un poquito más grande, tiene ese extra de batería por ser de mayor tamaño y quizá ese sí que merezca más la pena. En cuanto a la carga, como ya dije en el análisis del iPhone 15 Pro Max, pues Apple sigue estando bastante por detrás de su competencia en cuanto a las cifras de carga y en esta generación tendremos que esperar cerca de hora y media para que el teléfono esté cargado al 100%. El iPhone 15 tiene una carga máxima de 25 vatios, el Plus una carga máxima de 30 vatios, así que como veis no es una diferencia muy trascendental y ambos teléfonos tardan prácticamente lo mismo en cargarse. Así que si queréis cargar rápida pues todavía no, amigos de Apple, todavía no. Y vamos con buenas noticias ya que Apple sí que ha apostado mucho por la cámara de los iPhone 15 No Pro y en este caso adopta casi todas las ventajas que teníamos en los iPhone 14 Pro del año pasado subiendo los megapíxeles del sensor principal de 12 a 48. Eso sí, no os confundáis, no quiere decir que el sensor que montan los iPhone 15 sea exactamente el mismo sensor que tiene los iPhone 15 Pro porque no es el mismo sensor a pesar de que compartan esos 48 megapíxeles. El sensor principal de los iPhone 15 y 15 Plus es más pequeño por lo que tendrá un poco más de dificultades a la hora de captar la luz. Pero vamos a ver mejor las especificaciones a nivel de hardware de las cámaras de estos nuevos teléfonos. Como digo en el sensor principal tenemos una lente de 48 megapíxeles con apertura f 1.6 acompañada de otro sensor más que en este caso sigue siendo un ultragran angular. Este sí de 12 megapíxeles con apertura f 2.4. El dibujo de las cámaras de este iPhone 15 se completa con una cámara frontal con un sensor de 12 megapíxeles con una óptica con apertura f 1.9. Y me alegra decir que el salto de los 12 megapíxeles a los 48 en este iPhone 15 hace que la cámara sea capaz de cubrir prácticamente todas las necesidades que podamos tener a nivel de cámara. Eso sí, el iPhone 15 sólo toma fotos en formato comprimido, es decir o HEIC o JPG. El ProRAW sí que se queda reservado para los modelos superiores. Pero esto se ve mejor con los resultados. De día la cámara principal del iPhone 15 se luce con bastante músculo en las dos vertientes clave, es decir en el hardware y en el software. El nuevo sensor de estos iPhone 15 saca tomas con una nitidez mucho más alta incluso en los detalles del fondo de las imágenes. A nivel de colorimetría tenemos los mismos resultados que en el Pro Max, es decir los colores de la escena son prácticamente iguales a los originales, bastante naturales, tienen también un alto rango dinámico y luego sobre el enfoque decir que es realmente rápido y la detección de los sujetos ayuda a que las personas queden siempre en el foco de forma automática. El iPhone 15 no cuenta con cámara equipada con objetivo telefoto, muy a mi pesar, pero bueno tengo que decir que se las apañan bastante bien aplicando el truquillo del recorte sobre los 48 megapíxeles efectivos del sensor principal. Eso sí, todas estas fotos se guardan comprimidas en 12 megapíxeles y a nivel de calidad este zoom de dos aumentos que estrenan los iPhone 15 no Pro puede utilizarse sin problema. Es una solución más o menos válida a falta de tener un teleobjetivo. Objetivo que a mí me encantaría ver algún día los modelos no Pro sinceramente porque yo creo que es el que más utilizo. Esto ya a cuestión personal. De noche los resultados son muy buenos aunque siempre con excepciones. Si la escena está iluminada de manera uniforme el iPhone 15 puede sacarse fotones de la manga incluso sin activar el modo noche. Mantiene bien el balance de blancos clavado y hasta conserva gran detalle del fondo como los textos. Las acuarelas eso sí suelen aparecer cuando aplicamos el zoom, algo que en este caso es inevitable. Y luego lo que respecta a la grabación de vídeo el iPhone 15 se comporta como un gama premium en términos de calidad, estabilización de imagen, resolución y nitidez. Por las pruebas que hemos estado haciendo creo que no tienen nada que envidiarles a los teléfonos Pro, al menos siempre que se utilice la cámara principal, la cual permite hasta una resolución 4k a 60 fotogramas por segundo. Buenos ataqueros, hora de las conclusiones. Como os he dicho al principio del vídeo tanto el iPhone 15 como el iPhone 15 plus me parecen teléfonos mucho mucho más interesantes que los modelos Pro, al menos en esta generación. Como digo los modelos básicos adoptan todas las ventajas que tenían los modelos Pro del año pasado y esto ha hecho que prácticamente no haya echado de menos que no haya una grandísima evolución de la generación pasada a ésta, porque realmente no la hay. Como novedades pues ahí está el USB tipo C para cubrir la necesidad de tener un puerto más o menos universal en la mayoría de nuestros dispositivos electrónicos. También destacó ese mayor brillo de la pantalla que es prácticamente la misma que la de los modelos Pro a excepción de ese promotion que os comentaba y para mí apostar por el sensor de 48 megapíxeles como cámara principal es lo que termina decantando la balanza. Yo personalmente soy mucho más exigente y prefiero tener ese objetivo por eso yo prefiero tener el modelo Pro, pero entiendo que a muchos usuarios esto le da igual el tema de hacer zoom y demás, o sea que con una cámara principal y un ultra gran angular un tanto discretito yo creo que es más que de sobra. Como digo la cámara principal del iPhone 15 me ha parecido soberbia y termina sorprendiendo por su capacidad todoterreno que alcanza hasta ese zoom aprovechable en un rango de los 2 a los 5 aumentos y como digo el gran angular pues sigue siendo bastante flojo. Son pocas las veces que me ha apetecido disparar con esta cámara secundaria y bueno la falta de nitidez es notable casi a simple vista. También la deformación óptica en los extremos. En resumen, el iPhone 15 es un teléfono de gama premium con todas las de la ley incluso pese a que Apple rebaje artificialmente la categoría para encajarlos en su catálogo de precios. Así que la realidad es que el iPhone 15 me parece la decisión más inteligente si lo que buscas es el iPhone más reciente y te quieres ahorrar un poco de dinero y si no pues te recomiendo que le eches un vistazo al vídeo de qué iPhone comprar en 2023 que subimos hace unos días. Te dejo el enlace en la descripción porque si no quieres el iPhone 15 probablemente te interese otro y en ese vídeo tienes la respuesta a todas tus preguntas. Así que nada sataqueros me voy a despedir ya no sin antes haceros una pregunta ¿qué iPhone os está gustando más de los que ha presentado Apple? ¿Os gusta el modelo normal? ¿Preferís el modelo pro? ¿No preferís ningún iPhone? ¿Os gusta más cualquier otro Android? Pues no sé vamos a los comentarios y me dejáis ahí un debate interesante que yo los leo todos. Muchísimas gracias por haber estado una vez más al otro lado si tenéis cualquier duda ya sabéis ir abajo, dejad un buen me gusta, suscribiros al canal para no perderos nada de nuestro contenido porque dentro de poquito vamos a subir una comparativa de estos cuatro iPhones así que yo me despido ya que tengo mucho que hacer y nos vemos en el próximo vídeo sataqueros.', metadata={'source': 'files/transcripts/transcript.txt'})"
            ]
          },
          "metadata": {}
        }
      ]
    },
    {
      "cell_type": "markdown",
      "source": [
        "Paso 9: Dividir el texto en fragmentos utilizando el CharacterTextSplitter"
      ],
      "metadata": {
        "id": "tl90JR9nZ1VD"
      }
    },
    {
      "cell_type": "code",
      "source": [
        "# Initialize the CharacterTextSplitter with desired settings\n",
        "text_splitter = CharacterTextSplitter(\n",
        "    chunk_size=1000,  # Maximum size of each chunk\n",
        "    chunk_overlap=200  # Overlap between chunks\n",
        ")\n",
        "\n",
        "# Split the text into chunks using the text splitter\n",
        "texts = text_splitter.split_documents(documents)\n",
        "\n",
        "# Display the first chunk to verify if it was split correctly\n",
        "display(texts[0])\n"
      ],
      "metadata": {
        "colab": {
          "base_uri": "https://localhost:8080/",
          "height": 1000
        },
        "id": "lde0hoziVcb8",
        "outputId": "a580de72-8932-43c4-fd06-a95fad64f0f0"
      },
      "execution_count": null,
      "outputs": [
        {
          "output_type": "display_data",
          "data": {
            "text/plain": [
              "Document(page_content='He estado probando el nuevo iPhone 15 durante bastantes días como para poder traeros este análisis y lo primero de todo que os voy a decir es que me parece un modelo muchísimo más interesante que el iPhone 15 Pro o que el iPhone 15 Pro Max. En este vídeo te voy a decir que este iPhone 15 probablemente sea el iPhone que estabas esperando desde hace tiempo... ¿o no? Muy buenas ataqueros, ¿qué tal estáis? Yo soy Mario Arroyo y por primera vez en varias generaciones de iPhone al fin podemos diferenciar a simple vista el iPhone 15 del iPhone 14. Esto se debe principalmente a que Apple ha integrado también la Dynamic Island o isla dinámica en estos modelos básicos y bueno este es un elemento que tiene ciertas ventajas a la hora de usar el teléfono pero yo después de un año utilizando el iPhone 14 Pro Max como mi teléfono personal tengo que decir que tampoco le he sacado muchísimo partido y creo que todavía le falta más integración de aplicaciones de terceros. Hablando en términos de diseño para este iPhone 15 Apple ha querido mantener el cuerpo sólido de aluminio y los cantos rectos pero tengo que deciros que ha suavizado de manera notoria las aristas. Esto hace que la sensación en mano sea mucho más cómoda y hace parecer que el teléfono es más fino. En estos modelos no Pro Apple también ha decidido mantener esa pestaña de silencio que es súper clásica en los iPhone así que no tenemos ese nuevo botón de acción que sólo podemos disfrutar en el iPhone 15 Pro y iPhone 15 Pro Max que por cierto también hemos analizado ese iPhone 15 Pro Max si te interesa te lo dejo abajo en la descripción. Eso sí en el marco inferior sí que tenemos una de las grandes novedades que muchos usuarios llevábamos pidiéndole a Apple durante un montón de tiempo que es la integración del USB tipo C en el puerto de carga y como podía esperar pues el diseño sigue siendo excelente y este año se remata con una superficie trasera de cristal endurecido y tintada en un color acorde con el cuerpo metálico. El iPhone 15 de color azul claro es el que yo he estado probando y es un color que bajo mi punto de vista es demasiado sutil para mi gusto y en algunos momentos parece blanco. Ahora el tacto me ha parecido de los mejores que ha tenido nunca un iPhone. Es súper suavito, súper agradable, es como... Y luego más allá de la Dynamic Island la pantalla del iPhone 15 mantiene la calidad que ya ofrecían sus antecesores y el panel viene perfectamente bien calibrado en temperatura de color y saturación, tiene un contraste muy alto y en esta generación contamos con un brillo máximo que se eleva hasta los 2000 nits de pico en exteriores permitiendo ver el contenido incluso bajo la luz del sol directa. La pantalla es prácticamente idéntica a la que tenemos en los iPhone 15 Pro y Pro Max a excepción un año más de que no tenemos Promotion. Es decir que esa tasa de refresco de la pantalla no es tan fluida como nos gustaría y se sigue manteniendo en los 60 hercios. Estamos en 2023, este teléfono está cerca de los 1000 euros de precio y yo creo que ya va siendo hora de que Apple integre también el Promotion en los modelos no Pro. Entiendo que esto se hace para que haya una diferencia entre los básicos, los Pro, que el precio esté justificado, pero el Promotion... el Promotion no hombre no Si hablamos de potencia, los modelos más básicos de los iPhone 15 llegan con el Apple A16 Bionic como procesador, algo que bajo mi punto de vista le da calidad y le da garantía y que no nos confunda que el A16 sea un procesador del año pasado porque ya lo tenían los iPhone 14 Pro, pero sinceramente es que no hace falta más. Ya el Apple A16 funcionaba perfectamente, no veo el motivo de por qué meterle el A17 Pro nuevo a estos teléfonos. A nivel general, como digo, no he tenido ni un solo problema, la experiencia ha sido rápida en la multitarea, con altísima calidad en juegos de gran resolución y la verdad que no he notado un calentamiento excesivo a la hora de jugar a videojuegos más exigentes. Os recuerdo que los iPhone 15 Pro y iPhone 15 Pro Max están teniendo bastantes problemas de sobrecalentamiento, ya lo dijimos en el análisis del iPhone 15 Pro Max y esto es algo que no he notado en el iPhone 15, así que en este sentido yo respiro un poco más tranquilo. A ver si Apple soluciona a través de software estos problemas porque... cuidadito, ¿eh? Si hagamos de autonomía tampoco tenemos un grandísimo cambio, muy a mi pesar, el iPhone 15 sigue durando perfectamente las exigencias del día a día, tenemos autonomía perfectamente desde por la mañana hasta por la noche, con un uso moderado, con un uso normal. Yo siempre he estado utilizando el teléfono prácticamente con conectividad Wi-Fi, sin excesivo uso de videojuegos, muchas redes sociales, mucha navegación y muchos vídeos en YouTube. Así que si no eres un usuario ultra exigente que está todo el día grabando vídeos o todo el día usando el GPS, yo creo que la batería del iPhone 15 es más que de sobra. Ahora, si eres un usuario mucho más exigente y quieres un extra de batería, sí que te recomiendo que si te interesa el iPhone 15 le eches un vistazo al iPhone 15 Plus que, aunque es un poquito más grande, tiene ese extra de batería por ser de mayor tamaño y quizá ese sí que merezca más la pena. En cuanto a la carga, como ya dije en el análisis del iPhone 15 Pro Max, pues Apple sigue estando bastante por detrás de su competencia en cuanto a las cifras de carga y en esta generación tendremos que esperar cerca de hora y media para que el teléfono esté cargado al 100%. El iPhone 15 tiene una carga máxima de 25 vatios, el Plus una carga máxima de 30 vatios, así que como veis no es una diferencia muy trascendental y ambos teléfonos tardan prácticamente lo mismo en cargarse. Así que si queréis cargar rápida pues todavía no, amigos de Apple, todavía no. Y vamos con buenas noticias ya que Apple sí que ha apostado mucho por la cámara de los iPhone 15 No Pro y en este caso adopta casi todas las ventajas que teníamos en los iPhone 14 Pro del año pasado subiendo los megapíxeles del sensor principal de 12 a 48. Eso sí, no os confundáis, no quiere decir que el sensor que montan los iPhone 15 sea exactamente el mismo sensor que tiene los iPhone 15 Pro porque no es el mismo sensor a pesar de que compartan esos 48 megapíxeles. El sensor principal de los iPhone 15 y 15 Plus es más pequeño por lo que tendrá un poco más de dificultades a la hora de captar la luz. Pero vamos a ver mejor las especificaciones a nivel de hardware de las cámaras de estos nuevos teléfonos. Como digo en el sensor principal tenemos una lente de 48 megapíxeles con apertura f 1.6 acompañada de otro sensor más que en este caso sigue siendo un ultragran angular. Este sí de 12 megapíxeles con apertura f 2.4. El dibujo de las cámaras de este iPhone 15 se completa con una cámara frontal con un sensor de 12 megapíxeles con una óptica con apertura f 1.9. Y me alegra decir que el salto de los 12 megapíxeles a los 48 en este iPhone 15 hace que la cámara sea capaz de cubrir prácticamente todas las necesidades que podamos tener a nivel de cámara. Eso sí, el iPhone 15 sólo toma fotos en formato comprimido, es decir o HEIC o JPG. El ProRAW sí que se queda reservado para los modelos superiores. Pero esto se ve mejor con los resultados. De día la cámara principal del iPhone 15 se luce con bastante músculo en las dos vertientes clave, es decir en el hardware y en el software. El nuevo sensor de estos iPhone 15 saca tomas con una nitidez mucho más alta incluso en los detalles del fondo de las imágenes. A nivel de colorimetría tenemos los mismos resultados que en el Pro Max, es decir los colores de la escena son prácticamente iguales a los originales, bastante naturales, tienen también un alto rango dinámico y luego sobre el enfoque decir que es realmente rápido y la detección de los sujetos ayuda a que las personas queden siempre en el foco de forma automática. El iPhone 15 no cuenta con cámara equipada con objetivo telefoto, muy a mi pesar, pero bueno tengo que decir que se las apañan bastante bien aplicando el truquillo del recorte sobre los 48 megapíxeles efectivos del sensor principal. Eso sí, todas estas fotos se guardan comprimidas en 12 megapíxeles y a nivel de calidad este zoom de dos aumentos que estrenan los iPhone 15 no Pro puede utilizarse sin problema. Es una solución más o menos válida a falta de tener un teleobjetivo. Objetivo que a mí me encantaría ver algún día los modelos no Pro sinceramente porque yo creo que es el que más utilizo. Esto ya a cuestión personal. De noche los resultados son muy buenos aunque siempre con excepciones. Si la escena está iluminada de manera uniforme el iPhone 15 puede sacarse fotones de la manga incluso sin activar el modo noche. Mantiene bien el balance de blancos clavado y hasta conserva gran detalle del fondo como los textos. Las acuarelas eso sí suelen aparecer cuando aplicamos el zoom, algo que en este caso es inevitable. Y luego lo que respecta a la grabación de vídeo el iPhone 15 se comporta como un gama premium en términos de calidad, estabilización de imagen, resolución y nitidez. Por las pruebas que hemos estado haciendo creo que no tienen nada que envidiarles a los teléfonos Pro, al menos siempre que se utilice la cámara principal, la cual permite hasta una resolución 4k a 60 fotogramas por segundo. Buenos ataqueros, hora de las conclusiones. Como os he dicho al principio del vídeo tanto el iPhone 15 como el iPhone 15 plus me parecen teléfonos mucho mucho más interesantes que los modelos Pro, al menos en esta generación. Como digo los modelos básicos adoptan todas las ventajas que tenían los modelos Pro del año pasado y esto ha hecho que prácticamente no haya echado de menos que no haya una grandísima evolución de la generación pasada a ésta, porque realmente no la hay. Como novedades pues ahí está el USB tipo C para cubrir la necesidad de tener un puerto más o menos universal en la mayoría de nuestros dispositivos electrónicos. También destacó ese mayor brillo de la pantalla que es prácticamente la misma que la de los modelos Pro a excepción de ese promotion que os comentaba y para mí apostar por el sensor de 48 megapíxeles como cámara principal es lo que termina decantando la balanza. Yo personalmente soy mucho más exigente y prefiero tener ese objetivo por eso yo prefiero tener el modelo Pro, pero entiendo que a muchos usuarios esto le da igual el tema de hacer zoom y demás, o sea que con una cámara principal y un ultra gran angular un tanto discretito yo creo que es más que de sobra. Como digo la cámara principal del iPhone 15 me ha parecido soberbia y termina sorprendiendo por su capacidad todoterreno que alcanza hasta ese zoom aprovechable en un rango de los 2 a los 5 aumentos y como digo el gran angular pues sigue siendo bastante flojo. Son pocas las veces que me ha apetecido disparar con esta cámara secundaria y bueno la falta de nitidez es notable casi a simple vista. También la deformación óptica en los extremos. En resumen, el iPhone 15 es un teléfono de gama premium con todas las de la ley incluso pese a que Apple rebaje artificialmente la categoría para encajarlos en su catálogo de precios. Así que la realidad es que el iPhone 15 me parece la decisión más inteligente si lo que buscas es el iPhone más reciente y te quieres ahorrar un poco de dinero y si no pues te recomiendo que le eches un vistazo al vídeo de qué iPhone comprar en 2023 que subimos hace unos días. Te dejo el enlace en la descripción porque si no quieres el iPhone 15 probablemente te interese otro y en ese vídeo tienes la respuesta a todas tus preguntas. Así que nada sataqueros me voy a despedir ya no sin antes haceros una pregunta ¿qué iPhone os está gustando más de los que ha presentado Apple? ¿Os gusta el modelo normal? ¿Preferís el modelo pro? ¿No preferís ningún iPhone? ¿Os gusta más cualquier otro Android? Pues no sé vamos a los comentarios y me dejáis ahí un debate interesante que yo los leo todos. Muchísimas gracias por haber estado una vez más al otro lado si tenéis cualquier duda ya sabéis ir abajo, dejad un buen me gusta, suscribiros al canal para no perderos nada de nuestro contenido porque dentro de poquito vamos a subir una comparativa de estos cuatro iPhones así que yo me despido ya que tengo mucho que hacer y nos vemos en el próximo vídeo sataqueros.', metadata={'source': 'files/transcripts/transcript.txt'})"
            ]
          },
          "metadata": {}
        }
      ]
    },
    {
      "cell_type": "markdown",
      "source": [
        "Paso 10: Crear un índice FAISS a partir de los fragmentos de texto"
      ],
      "metadata": {
        "id": "qUmQYC4PZ5Uz"
      }
    },
    {
      "cell_type": "code",
      "source": [
        "!pip install faiss-cpu"
      ],
      "metadata": {
        "colab": {
          "base_uri": "https://localhost:8080/"
        },
        "id": "yl1W3VYcXo24",
        "outputId": "9f246586-2619-4fa4-9399-72d6ae19cbda"
      },
      "execution_count": null,
      "outputs": [
        {
          "output_type": "stream",
          "name": "stdout",
          "text": [
            "Collecting faiss-cpu\n",
            "  Downloading faiss_cpu-1.8.0.post1-cp310-cp310-manylinux_2_17_x86_64.manylinux2014_x86_64.whl (27.0 MB)\n",
            "\u001b[2K     \u001b[90m━━━━━━━━━━━━━━━━━━━━━━━━━━━━━━━━━━━━━━━━\u001b[0m \u001b[32m27.0/27.0 MB\u001b[0m \u001b[31m44.4 MB/s\u001b[0m eta \u001b[36m0:00:00\u001b[0m\n",
            "\u001b[?25hRequirement already satisfied: numpy<2.0,>=1.0 in /usr/local/lib/python3.10/dist-packages (from faiss-cpu) (1.25.2)\n",
            "Requirement already satisfied: packaging in /usr/local/lib/python3.10/dist-packages (from faiss-cpu) (24.1)\n",
            "Installing collected packages: faiss-cpu\n",
            "Successfully installed faiss-cpu-1.8.0.post1\n"
          ]
        }
      ]
    },
    {
      "cell_type": "code",
      "source": [
        "# Initialize the OpenAI embeddings\n",
        "embeddings = OpenAIEmbeddings(openai_api_key=openai.api_key)\n",
        "\n",
        "# Create a FAISS index from the text chunks\n",
        "faiss_index = FAISS.from_texts([text.page_content for text in texts], embeddings)\n",
        "\n",
        "# Display a message to indicate that the index was created successfully\n",
        "print(\"FAISS index created successfully.\")\n"
      ],
      "metadata": {
        "colab": {
          "base_uri": "https://localhost:8080/"
        },
        "id": "4QtK96ydVdD7",
        "outputId": "205d1a59-78b5-45bf-edef-5094b5dce349"
      },
      "execution_count": null,
      "outputs": [
        {
          "output_type": "stream",
          "name": "stdout",
          "text": [
            "FAISS index created successfully.\n"
          ]
        }
      ]
    },
    {
      "cell_type": "markdown",
      "source": [
        "Paso 11: Crear una cadena de recuperación de preguntas y respuestas (RetrievalQA) 👉 Subir la variable de entorno para contraseña al inicio del programa"
      ],
      "metadata": {
        "id": "IpiEJXvFZ_WU"
      }
    },
    {
      "cell_type": "code",
      "source": [
        "# Initialize the OpenAI chat model\n",
        "import openai\n",
        "import os\n",
        "\n",
        "os.environ[\"OPENAI_API_KEY\"] = \"sk-proj-NCeH7elzvrTgjL2rPQJrT3BlbkFJ8MQDCZWYC2inGXbiWaPS\"  # Set API key as environment variable\n",
        "chat_model = ChatOpenAI(model_name=\"gpt-4\")\n",
        "\n",
        "# Create the RetrievalQA chain\n",
        "qa_chain = RetrievalQA.from_chain_type(\n",
        "    llm=chat_model,\n",
        "    chain_type=\"stuff\",\n",
        "    retriever=faiss_index.as_retriever()\n",
        ")\n",
        "\n",
        "# Display a message to indicate that the RetrievalQA chain was created successfully\n",
        "print(\"RetrievalQA chain created successfully.\")"
      ],
      "metadata": {
        "colab": {
          "base_uri": "https://localhost:8080/"
        },
        "id": "QhFxLPdmVttu",
        "outputId": "9b99c602-39b4-4abd-ce03-10e48f961437"
      },
      "execution_count": null,
      "outputs": [
        {
          "output_type": "stream",
          "name": "stdout",
          "text": [
            "RetrievalQA chain created successfully.\n"
          ]
        }
      ]
    },
    {
      "cell_type": "markdown",
      "source": [
        "Paso 12: Preguntar al modelo para probar el retrieval de información"
      ],
      "metadata": {
        "id": "NqewaqvzaL0m"
      }
    },
    {
      "cell_type": "code",
      "source": [
        "# Ask a sample question using the QA chain\n",
        "question = \"What is the main topic of the video?\"\n",
        "response = qa_chain.run(question)\n",
        "\n",
        "# Display the response\n",
        "print(f\"Question: {question}\")\n",
        "print(f\"Answer: {response}\")\n"
      ],
      "metadata": {
        "colab": {
          "base_uri": "https://localhost:8080/"
        },
        "id": "_9KUM0HcVvNx",
        "outputId": "a9a8aa63-a3bb-46a6-e88e-686d36936aaf"
      },
      "execution_count": null,
      "outputs": [
        {
          "output_type": "stream",
          "name": "stdout",
          "text": [
            "Question: What is the main topic of the video?\n",
            "Answer: The main topic of the video is a review of the new iPhone 15. The speaker provides a detailed analysis of the phone's features, design, performance, camera quality, and battery life, comparing it to other models like the iPhone 15 Pro and iPhone 15 Pro Max. The speaker expresses their preference for the iPhone 15 over its Pro counterparts.\n"
          ]
        }
      ]
    },
    {
      "cell_type": "code",
      "source": [
        "# Set the query to be user for the QA system\n",
        "question = \"Who should what this video?\"\n",
        "\n",
        "# Run the question through the RetrievalQA instance and the response\n",
        "\n",
        "response = qa_chain.run(question)\n",
        "\n",
        "# Print the response to the console\n",
        "\n",
        "print(response)"
      ],
      "metadata": {
        "colab": {
          "base_uri": "https://localhost:8080/"
        },
        "id": "5l0bW0H8DX7w",
        "outputId": "ec116b42-4d92-4078-9bc1-0f18ea295784"
      },
      "execution_count": null,
      "outputs": [
        {
          "output_type": "stream",
          "name": "stdout",
          "text": [
            "This video should be watched by anyone interested in getting an in-depth review of the iPhone 15 and iPhone 15 Plus, particularly those who are considering purchasing one of these models and want to understand their features, advantages and disadvantages.\n"
          ]
        }
      ]
    },
    {
      "cell_type": "markdown",
      "source": [
        "Testing question not related with transcript (particular video)\n"
      ],
      "metadata": {
        "id": "R17rcB4wDj3h"
      }
    },
    {
      "cell_type": "code",
      "source": [
        "# Set the query to be user for the QA system\n",
        "question = \"Who is the brest football player in the world?\"\n",
        "\n",
        "# Run the question through the RetrievalQA instance and the response\n",
        "\n",
        "response = qa_chain.run(question)\n",
        "\n",
        "# Print the response to the console\n",
        "\n",
        "print(response)"
      ],
      "metadata": {
        "colab": {
          "base_uri": "https://localhost:8080/"
        },
        "id": "YmeO82LuDYOQ",
        "outputId": "179ce947-d3f1-48b4-a0d0-ba9c71a62421"
      },
      "execution_count": null,
      "outputs": [
        {
          "output_type": "stream",
          "name": "stdout",
          "text": [
            "I'm sorry, but the text provided doesn't include information about the best football player in the world.\n"
          ]
        }
      ]
    },
    {
      "cell_type": "code",
      "source": [
        "# Set the query to be user for the QA system\n",
        "question = \"How long is the circumference of the earth?\"\n",
        "\n",
        "# Run the question through the RetrievalQA instance and the response\n",
        "\n",
        "response = qa_chain.run(question)\n",
        "\n",
        "# Print the response to the console\n",
        "\n",
        "print(response)"
      ],
      "metadata": {
        "colab": {
          "base_uri": "https://localhost:8080/"
        },
        "id": "twGE_89mEM6n",
        "outputId": "c93be193-e757-4cb2-92d0-75185b17f8a8"
      },
      "execution_count": null,
      "outputs": [
        {
          "output_type": "stream",
          "name": "stderr",
          "text": [
            "WARNING:langchain.llms.base:Retrying langchain.chat_models.openai.ChatOpenAI.completion_with_retry.<locals>._completion_with_retry in 4.0 seconds as it raised RateLimitError: Rate limit reached for gpt-4 in organization org-vBX63hHAVcvaabGVzJPxb53R on tokens per min (TPM): Limit 10000, Used 8310, Requested 3223. Please try again in 9.198s. Visit https://platform.openai.com/account/rate-limits to learn more..\n",
            "WARNING:langchain.llms.base:Retrying langchain.chat_models.openai.ChatOpenAI.completion_with_retry.<locals>._completion_with_retry in 4.0 seconds as it raised RateLimitError: Rate limit reached for gpt-4 in organization org-vBX63hHAVcvaabGVzJPxb53R on tokens per min (TPM): Limit 10000, Used 7629, Requested 3223. Please try again in 5.112s. Visit https://platform.openai.com/account/rate-limits to learn more..\n",
            "WARNING:langchain.llms.base:Retrying langchain.chat_models.openai.ChatOpenAI.completion_with_retry.<locals>._completion_with_retry in 4.0 seconds as it raised RateLimitError: Rate limit reached for gpt-4 in organization org-vBX63hHAVcvaabGVzJPxb53R on tokens per min (TPM): Limit 10000, Used 6949, Requested 3223. Please try again in 1.032s. Visit https://platform.openai.com/account/rate-limits to learn more..\n"
          ]
        },
        {
          "output_type": "stream",
          "name": "stdout",
          "text": [
            "I don't know.\n"
          ]
        }
      ]
    }
  ]
}